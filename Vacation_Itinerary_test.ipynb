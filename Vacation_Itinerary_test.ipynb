{
 "cells": [
  {
   "cell_type": "markdown",
   "metadata": {},
   "source": [
    "## Deliverable 3. Create a Travel Itinerary Map."
   ]
  },
  {
   "cell_type": "code",
   "execution_count": 1,
   "metadata": {},
   "outputs": [],
   "source": [
    "# Dependencies and Setup\n",
    "import pandas as pd\n",
    "import requests\n",
    "import gmaps\n",
    "\n",
    "# Import API key\n",
    "from config import g_key\n",
    "\n",
    "# Configure gmaps\n",
    "gmaps.configure(api_key=g_key)"
   ]
  },
  {
   "cell_type": "code",
   "execution_count": 2,
   "metadata": {},
   "outputs": [
    {
     "data": {
      "text/html": [
       "<div>\n",
       "<style scoped>\n",
       "    .dataframe tbody tr th:only-of-type {\n",
       "        vertical-align: middle;\n",
       "    }\n",
       "\n",
       "    .dataframe tbody tr th {\n",
       "        vertical-align: top;\n",
       "    }\n",
       "\n",
       "    .dataframe thead th {\n",
       "        text-align: right;\n",
       "    }\n",
       "</style>\n",
       "<table border=\"1\" class=\"dataframe\">\n",
       "  <thead>\n",
       "    <tr style=\"text-align: right;\">\n",
       "      <th></th>\n",
       "      <th>City_ID</th>\n",
       "      <th>City</th>\n",
       "      <th>Country</th>\n",
       "      <th>Max Temp</th>\n",
       "      <th>Current Description</th>\n",
       "      <th>Lat</th>\n",
       "      <th>Lng</th>\n",
       "      <th>Hotel Name</th>\n",
       "    </tr>\n",
       "  </thead>\n",
       "  <tbody>\n",
       "    <tr>\n",
       "      <th>556</th>\n",
       "      <td>556</td>\n",
       "      <td>ler</td>\n",
       "      <td>NO</td>\n",
       "      <td>39.20</td>\n",
       "      <td>shower rain</td>\n",
       "      <td>63.20</td>\n",
       "      <td>10.30</td>\n",
       "      <td>Motel Pokoje Do Wynajecia</td>\n",
       "    </tr>\n",
       "    <tr>\n",
       "      <th>557</th>\n",
       "      <td>557</td>\n",
       "      <td>prince george</td>\n",
       "      <td>CA</td>\n",
       "      <td>35.01</td>\n",
       "      <td>light rain</td>\n",
       "      <td>53.92</td>\n",
       "      <td>-122.75</td>\n",
       "      <td>Canadas Best Value Inn Prince George</td>\n",
       "    </tr>\n",
       "    <tr>\n",
       "      <th>558</th>\n",
       "      <td>558</td>\n",
       "      <td>grafton</td>\n",
       "      <td>AU</td>\n",
       "      <td>89.60</td>\n",
       "      <td>few clouds</td>\n",
       "      <td>-29.69</td>\n",
       "      <td>152.93</td>\n",
       "      <td>Glenwood Tourist Park &amp; Motel</td>\n",
       "    </tr>\n",
       "    <tr>\n",
       "      <th>559</th>\n",
       "      <td>559</td>\n",
       "      <td>merauke</td>\n",
       "      <td>ID</td>\n",
       "      <td>87.35</td>\n",
       "      <td>moderate rain</td>\n",
       "      <td>-8.49</td>\n",
       "      <td>140.40</td>\n",
       "      <td>Swiss-Belhotel Merauke</td>\n",
       "    </tr>\n",
       "    <tr>\n",
       "      <th>560</th>\n",
       "      <td>560</td>\n",
       "      <td>hambantota</td>\n",
       "      <td>LK</td>\n",
       "      <td>89.60</td>\n",
       "      <td>broken clouds</td>\n",
       "      <td>6.12</td>\n",
       "      <td>81.12</td>\n",
       "      <td>Bungalow 63</td>\n",
       "    </tr>\n",
       "  </tbody>\n",
       "</table>\n",
       "</div>"
      ],
      "text/plain": [
       "     City_ID           City Country  Max Temp Current Description    Lat  \\\n",
       "556      556            ler      NO     39.20         shower rain  63.20   \n",
       "557      557  prince george      CA     35.01          light rain  53.92   \n",
       "558      558        grafton      AU     89.60          few clouds -29.69   \n",
       "559      559        merauke      ID     87.35       moderate rain  -8.49   \n",
       "560      560     hambantota      LK     89.60       broken clouds   6.12   \n",
       "\n",
       "        Lng                            Hotel Name  \n",
       "556   10.30             Motel Pokoje Do Wynajecia  \n",
       "557 -122.75  Canadas Best Value Inn Prince George  \n",
       "558  152.93         Glenwood Tourist Park & Motel  \n",
       "559  140.40                Swiss-Belhotel Merauke  \n",
       "560   81.12                           Bungalow 63  "
      ]
     },
     "execution_count": 2,
     "metadata": {},
     "output_type": "execute_result"
    }
   ],
   "source": [
    "# 1. Read the WeatherPy_vacation.csv into a DataFrame.\n",
    "vacation_df = pd.read_csv(\"WeatherPy_vacation.csv\")\n",
    "vacation_df.tail()"
   ]
  },
  {
   "cell_type": "code",
   "execution_count": 3,
   "metadata": {},
   "outputs": [
    {
     "data": {
      "text/html": [
       "<div>\n",
       "<style scoped>\n",
       "    .dataframe tbody tr th:only-of-type {\n",
       "        vertical-align: middle;\n",
       "    }\n",
       "\n",
       "    .dataframe tbody tr th {\n",
       "        vertical-align: top;\n",
       "    }\n",
       "\n",
       "    .dataframe thead th {\n",
       "        text-align: right;\n",
       "    }\n",
       "</style>\n",
       "<table border=\"1\" class=\"dataframe\">\n",
       "  <thead>\n",
       "    <tr style=\"text-align: right;\">\n",
       "      <th></th>\n",
       "      <th>City_ID</th>\n",
       "      <th>City</th>\n",
       "      <th>Country</th>\n",
       "      <th>Max Temp</th>\n",
       "      <th>Current Description</th>\n",
       "      <th>Lat</th>\n",
       "      <th>Lng</th>\n",
       "      <th>Hotel Name</th>\n",
       "    </tr>\n",
       "  </thead>\n",
       "  <tbody>\n",
       "    <tr>\n",
       "      <th>392</th>\n",
       "      <td>392</td>\n",
       "      <td>vila franca do campo</td>\n",
       "      <td>PT</td>\n",
       "      <td>64.40</td>\n",
       "      <td>broken clouds</td>\n",
       "      <td>37.72</td>\n",
       "      <td>-25.43</td>\n",
       "      <td>Pestana Bahia Praia</td>\n",
       "    </tr>\n",
       "    <tr>\n",
       "      <th>395</th>\n",
       "      <td>395</td>\n",
       "      <td>tarragona</td>\n",
       "      <td>ES</td>\n",
       "      <td>44.01</td>\n",
       "      <td>clear sky</td>\n",
       "      <td>41.12</td>\n",
       "      <td>1.25</td>\n",
       "      <td>Hotel SB Ciutat de Tarragona</td>\n",
       "    </tr>\n",
       "    <tr>\n",
       "      <th>487</th>\n",
       "      <td>487</td>\n",
       "      <td>crotone</td>\n",
       "      <td>IT</td>\n",
       "      <td>42.22</td>\n",
       "      <td>clear sky</td>\n",
       "      <td>39.09</td>\n",
       "      <td>17.12</td>\n",
       "      <td>Helios Hotel</td>\n",
       "    </tr>\n",
       "    <tr>\n",
       "      <th>494</th>\n",
       "      <td>494</td>\n",
       "      <td>mantua</td>\n",
       "      <td>IT</td>\n",
       "      <td>37.00</td>\n",
       "      <td>few clouds</td>\n",
       "      <td>45.16</td>\n",
       "      <td>10.79</td>\n",
       "      <td>Hotel la Favorita</td>\n",
       "    </tr>\n",
       "  </tbody>\n",
       "</table>\n",
       "</div>"
      ],
      "text/plain": [
       "     City_ID                  City Country  Max Temp Current Description  \\\n",
       "392      392  vila franca do campo      PT     64.40       broken clouds   \n",
       "395      395             tarragona      ES     44.01           clear sky   \n",
       "487      487               crotone      IT     42.22           clear sky   \n",
       "494      494                mantua      IT     37.00          few clouds   \n",
       "\n",
       "       Lat    Lng                    Hotel Name  \n",
       "392  37.72 -25.43           Pestana Bahia Praia  \n",
       "395  41.12   1.25  Hotel SB Ciutat de Tarragona  \n",
       "487  39.09  17.12                  Helios Hotel  \n",
       "494  45.16  10.79             Hotel la Favorita  "
      ]
     },
     "execution_count": 3,
     "metadata": {},
     "output_type": "execute_result"
    }
   ],
   "source": [
    "vacation = vacation_df\n",
    "pref_cities_df = vacation.loc[(vacation_df[\"Country\"] == \"IT\")| (vacation_df[\"Country\"] == \"ES\")| (vacation_df[\"Country\"] == \"PT\")].tail(4)\n",
    "pref_cities_df"
   ]
  },
  {
   "cell_type": "code",
   "execution_count": 7,
   "metadata": {},
   "outputs": [
    {
     "data": {
      "text/html": [
       "<div>\n",
       "<style scoped>\n",
       "    .dataframe tbody tr th:only-of-type {\n",
       "        vertical-align: middle;\n",
       "    }\n",
       "\n",
       "    .dataframe tbody tr th {\n",
       "        vertical-align: top;\n",
       "    }\n",
       "\n",
       "    .dataframe thead th {\n",
       "        text-align: right;\n",
       "    }\n",
       "</style>\n",
       "<table border=\"1\" class=\"dataframe\">\n",
       "  <thead>\n",
       "    <tr style=\"text-align: right;\">\n",
       "      <th></th>\n",
       "      <th>City_ID</th>\n",
       "      <th>City</th>\n",
       "      <th>Country</th>\n",
       "      <th>Max Temp</th>\n",
       "      <th>Current Description</th>\n",
       "      <th>Lat</th>\n",
       "      <th>Lng</th>\n",
       "      <th>Hotel Name</th>\n",
       "    </tr>\n",
       "  </thead>\n",
       "  <tbody>\n",
       "    <tr>\n",
       "      <th>392</th>\n",
       "      <td>392</td>\n",
       "      <td>vila franca do campo</td>\n",
       "      <td>PT</td>\n",
       "      <td>64.40</td>\n",
       "      <td>broken clouds</td>\n",
       "      <td>37.72</td>\n",
       "      <td>-25.43</td>\n",
       "      <td>Pestana Bahia Praia</td>\n",
       "    </tr>\n",
       "    <tr>\n",
       "      <th>395</th>\n",
       "      <td>395</td>\n",
       "      <td>tarragona</td>\n",
       "      <td>ES</td>\n",
       "      <td>44.01</td>\n",
       "      <td>clear sky</td>\n",
       "      <td>41.12</td>\n",
       "      <td>1.25</td>\n",
       "      <td>Hotel SB Ciutat de Tarragona</td>\n",
       "    </tr>\n",
       "    <tr>\n",
       "      <th>487</th>\n",
       "      <td>487</td>\n",
       "      <td>crotone</td>\n",
       "      <td>IT</td>\n",
       "      <td>42.22</td>\n",
       "      <td>clear sky</td>\n",
       "      <td>39.09</td>\n",
       "      <td>17.12</td>\n",
       "      <td>Helios Hotel</td>\n",
       "    </tr>\n",
       "    <tr>\n",
       "      <th>494</th>\n",
       "      <td>494</td>\n",
       "      <td>mantua</td>\n",
       "      <td>IT</td>\n",
       "      <td>37.00</td>\n",
       "      <td>few clouds</td>\n",
       "      <td>45.16</td>\n",
       "      <td>10.79</td>\n",
       "      <td>Hotel la Favorita</td>\n",
       "    </tr>\n",
       "  </tbody>\n",
       "</table>\n",
       "</div>"
      ],
      "text/plain": [
       "     City_ID                  City Country  Max Temp Current Description  \\\n",
       "392      392  vila franca do campo      PT     64.40       broken clouds   \n",
       "395      395             tarragona      ES     44.01           clear sky   \n",
       "487      487               crotone      IT     42.22           clear sky   \n",
       "494      494                mantua      IT     37.00          few clouds   \n",
       "\n",
       "       Lat    Lng                    Hotel Name  \n",
       "392  37.72 -25.43           Pestana Bahia Praia  \n",
       "395  41.12   1.25  Hotel SB Ciutat de Tarragona  \n",
       "487  39.09  17.12                  Helios Hotel  \n",
       "494  45.16  10.79             Hotel la Favorita  "
      ]
     },
     "execution_count": 7,
     "metadata": {},
     "output_type": "execute_result"
    }
   ],
   "source": [
    "# combine 4 cities into 1 DataFrame\n",
    "four_cities_df = pref_cities_df.loc[[392, 395, 487, 494], :]\n",
    "four_cities_df"
   ]
  },
  {
   "cell_type": "code",
   "execution_count": 8,
   "metadata": {},
   "outputs": [
    {
     "data": {
      "text/plain": [
       "[(37.72, -25.43), (41.12, 1.25), (39.09, 17.12), (45.16, 10.79)]"
      ]
     },
     "execution_count": 8,
     "metadata": {},
     "output_type": "execute_result"
    }
   ],
   "source": [
    "coords = list(zip(four_cities_df[\"Lat\"], four_cities_df[\"Lng\"]))\n",
    "coords"
   ]
  },
  {
   "cell_type": "code",
   "execution_count": 12,
   "metadata": {},
   "outputs": [],
   "source": [
    "# From the map above pick 4 cities and create a vacation itinerary route to travel between the four cities. \n",
    "# 5. Create DataFrames for each city by filtering the 'vacation_df' using the loc method. \n",
    "\n",
    "# Hint: The starting and ending city should be the same city.\n",
    "\n",
    "vacation_start =pref_cities_df.loc[pref_cities_df[\"City\"] == \"crotone\"]\n",
    "vacation_end = pref_cities_df.loc[pref_cities_df[\"City\"] == \"crotone\"]\n",
    "vacation_stop1 = pref_cities_df.loc[pref_cities_df[\"City\"] == \"tarragona\"]\n",
    "vacation_stop2 = pref_cities_df.loc[pref_cities_df[\"City\"] == \"vila franca de campo\"]\n",
    "vacation_stop3 = pref_cities_df.loc[pref_cities_df[\"City\"] == \"mantua\"]\n"
   ]
  },
  {
   "cell_type": "code",
   "execution_count": 13,
   "metadata": {},
   "outputs": [
    {
     "name": "stdout",
     "output_type": "stream",
     "text": [
      "[[41.12  1.25]]\n"
     ]
    }
   ],
   "source": [
    "# 6. Get the latitude-longitude pairs as tuples from each city DataFrame using the to_numpy function and list indexing.\n",
    "start = vacation_start[[\"Lat\", \"Lng\"]].to_numpy() \n",
    "end = vacation_end[[\"Lat\", \"Lng\"]].to_numpy() \n",
    "stop1 = vacation_stop1[[\"Lat\", \"Lng\"]].to_numpy() \n",
    "stop2 = vacation_stop2[[\"Lat\", \"Lng\"]].to_numpy() \n",
    "stop3 = vacation_stop3[[\"Lat\", \"Lng\"]].to_numpy() \n",
    "print(stop1)"
   ]
  },
  {
   "cell_type": "code",
   "execution_count": 15,
   "metadata": {
    "scrolled": true
   },
   "outputs": [
    {
     "data": {
      "application/vnd.jupyter.widget-view+json": {
       "model_id": "91f99b5851834530b6bb235759ae3271",
       "version_major": 2,
       "version_minor": 0
      },
      "text/plain": [
       "Figure(layout=FigureLayout(height='420px'))"
      ]
     },
     "metadata": {},
     "output_type": "display_data"
    }
   ],
   "source": [
    "# 7. Create a direction layer map using the start and end latitude-longitude pairs,\n",
    "# and stop1, stop2, and stop3 as the waypoints. The travel_mode should be \"DRIVING\", \"BICYCLING\", or \"WALKING\".\n",
    "fig = gmaps.figure() \n",
    "route = gmaps.directions_layer(coords[0], coords[0], waypoints = [coords[1], coords[2], coords[3]], travel_mode = \"DRIVING\")\n",
    "fig.add_layer(route)\n",
    "fig"
   ]
  },
  {
   "cell_type": "code",
   "execution_count": null,
   "metadata": {
    "scrolled": true
   },
   "outputs": [],
   "source": [
    "# 4a. Add a marker layer for each city to the map.\n",
    "fig = gmaps.figure() \n",
    "marker_layer = gmaps.marker_layer(locations, info_box_content = hotel_info)\n",
    "fig.add_layer(marker_layer)\n",
    "\n",
    "fig\n",
    "# 4b. Display the figure\n",
    "\n"
   ]
  },
  {
   "cell_type": "code",
   "execution_count": null,
   "metadata": {},
   "outputs": [],
   "source": [
    "# 2. Using the template add the city name, the country code, the weather description and maximum temperature for the city.\n",
    "info_box_template = \"\"\"\n",
    "<dl>\n",
    "<dt>Hotel Name</dt><dd>{Hotel Name}</dd>\n",
    "<dt>City</dt><dd>{City}</dd>\n",
    "<dt>Country</dt><dd>{Country}</dd>\n",
    "<dt>Current Weather</dt><dd>{Current Description} and {Max Temp}°F</dd>\n",
    "</dl>\n",
    "\"\"\"\n",
    "\n",
    "# 3a. Get the data from each row and add it to the formatting template and store the data in a list.\n",
    "hotel_info = [info_box_template.format(**row) for index, row in pref_cities_df.iterrows()]\n",
    "\n",
    "# 3b. Get the latitude and longitude from each row and store in a new DataFrame.\n",
    "locations =vacation_df[[\"Lat\", \"Lng\"]]\n",
    "locations"
   ]
  },
  {
   "cell_type": "code",
   "execution_count": null,
   "metadata": {},
   "outputs": [],
   "source": [
    "four_cities_df = pref_cities_df.loc[(pref)]"
   ]
  },
  {
   "cell_type": "code",
   "execution_count": null,
   "metadata": {},
   "outputs": [],
   "source": [
    "# Create DataFrame called hotel_df to store hotel names along with city, country, max temp, and coordinates.\n",
    "hotel_df = pref_cities_df[[\"City\", \"Country\", \"Max Temp\", \"Lat\", \"Lng\"]].copy()\n",
    "hotel_df[\"Hotel Name\"] = \"\"\n",
    "hotel_df.tail(4) "
   ]
  },
  {
   "cell_type": "code",
   "execution_count": null,
   "metadata": {},
   "outputs": [],
   "source": [
    "# 8. To create a marker layer map between the four cities.\n",
    "#  Combine the four city DataFrames into one DataFrame using the concat() function.\n",
    "itinerary_df = pd.concat([],ignore_index=True)\n",
    "itinerary_df"
   ]
  },
  {
   "cell_type": "code",
   "execution_count": null,
   "metadata": {},
   "outputs": [],
   "source": [
    "# 9 Using the template add city name, the country code, the weather description and maximum temperature for the city. \n",
    "info_box_template = \"\"\"\n",
    "\n",
    "\"\"\"\n",
    "\n",
    "# 10a Get the data from each row and add it to the formatting template and store the data in a list.\n",
    "hotel_info = [info_box_template.format(**row) for index, row in itinerary_df.iterrows()]\n",
    "\n",
    "# 10b. Get the latitude and longitude from each row and store in a new DataFrame.\n",
    "locations = itinerary_df[[\"Lat\", \"Lng\"]]"
   ]
  },
  {
   "cell_type": "code",
   "execution_count": null,
   "metadata": {},
   "outputs": [],
   "source": [
    "# 11a. Add a marker layer for each city to the map.\n",
    "\n",
    "# 11b. Display the figure\n"
   ]
  },
  {
   "cell_type": "code",
   "execution_count": null,
   "metadata": {},
   "outputs": [],
   "source": []
  }
 ],
 "metadata": {
  "kernelspec": {
   "display_name": "PythonData",
   "language": "python",
   "name": "pythondata"
  },
  "language_info": {
   "codemirror_mode": {
    "name": "ipython",
    "version": 3
   },
   "file_extension": ".py",
   "mimetype": "text/x-python",
   "name": "python",
   "nbconvert_exporter": "python",
   "pygments_lexer": "ipython3",
   "version": "3.7.7"
  },
  "latex_envs": {
   "LaTeX_envs_menu_present": true,
   "autoclose": false,
   "autocomplete": true,
   "bibliofile": "biblio.bib",
   "cite_by": "apalike",
   "current_citInitial": 1,
   "eqLabelWithNumbers": true,
   "eqNumInitial": 1,
   "hotkeys": {
    "equation": "Ctrl-E",
    "itemize": "Ctrl-I"
   },
   "labels_anchors": false,
   "latex_user_defs": false,
   "report_style_numbering": false,
   "user_envs_cfg": false
  }
 },
 "nbformat": 4,
 "nbformat_minor": 2
}
