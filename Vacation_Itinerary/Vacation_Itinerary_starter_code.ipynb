{
 "cells": [
  {
   "cell_type": "markdown",
   "metadata": {},
   "source": [
    "## Deliverable 3. Create a Travel Itinerary Map."
   ]
  },
  {
   "cell_type": "code",
   "execution_count": 1,
   "metadata": {},
   "outputs": [],
   "source": [
    "# Dependencies and Setup\n",
    "import pandas as pd\n",
    "import requests\n",
    "import gmaps\n",
    "\n",
    "# Import API key\n",
    "from config import g_key\n",
    "\n",
    "# Configure gmaps\n",
    "gmaps.configure(api_key=g_key)"
   ]
  },
  {
   "cell_type": "code",
   "execution_count": 16,
   "metadata": {},
   "outputs": [
    {
     "data": {
      "text/html": [
       "<div>\n",
       "<style scoped>\n",
       "    .dataframe tbody tr th:only-of-type {\n",
       "        vertical-align: middle;\n",
       "    }\n",
       "\n",
       "    .dataframe tbody tr th {\n",
       "        vertical-align: top;\n",
       "    }\n",
       "\n",
       "    .dataframe thead th {\n",
       "        text-align: right;\n",
       "    }\n",
       "</style>\n",
       "<table border=\"1\" class=\"dataframe\">\n",
       "  <thead>\n",
       "    <tr style=\"text-align: right;\">\n",
       "      <th></th>\n",
       "      <th>City_ID</th>\n",
       "      <th>City</th>\n",
       "      <th>Country</th>\n",
       "      <th>Max Temp</th>\n",
       "      <th>Current Description</th>\n",
       "      <th>Lat</th>\n",
       "      <th>Lng</th>\n",
       "      <th>Hotel Name</th>\n",
       "    </tr>\n",
       "  </thead>\n",
       "  <tbody>\n",
       "    <tr>\n",
       "      <th>0</th>\n",
       "      <td>0</td>\n",
       "      <td>kalmunai</td>\n",
       "      <td>LK</td>\n",
       "      <td>81.27</td>\n",
       "      <td>overcast clouds</td>\n",
       "      <td>7.42</td>\n",
       "      <td>81.82</td>\n",
       "      <td>VS Villa</td>\n",
       "    </tr>\n",
       "    <tr>\n",
       "      <th>1</th>\n",
       "      <td>1</td>\n",
       "      <td>san jeronimo</td>\n",
       "      <td>PE</td>\n",
       "      <td>50.00</td>\n",
       "      <td>light rain</td>\n",
       "      <td>-13.65</td>\n",
       "      <td>-73.37</td>\n",
       "      <td>La Mansion Casa Hotel</td>\n",
       "    </tr>\n",
       "    <tr>\n",
       "      <th>2</th>\n",
       "      <td>2</td>\n",
       "      <td>bambous virieux</td>\n",
       "      <td>MU</td>\n",
       "      <td>81.00</td>\n",
       "      <td>shower rain</td>\n",
       "      <td>-20.34</td>\n",
       "      <td>57.76</td>\n",
       "      <td>Casa Tia Villa</td>\n",
       "    </tr>\n",
       "    <tr>\n",
       "      <th>3</th>\n",
       "      <td>3</td>\n",
       "      <td>atuona</td>\n",
       "      <td>PF</td>\n",
       "      <td>80.35</td>\n",
       "      <td>clear sky</td>\n",
       "      <td>-9.80</td>\n",
       "      <td>-139.03</td>\n",
       "      <td>Villa Enata</td>\n",
       "    </tr>\n",
       "    <tr>\n",
       "      <th>4</th>\n",
       "      <td>4</td>\n",
       "      <td>hobart</td>\n",
       "      <td>AU</td>\n",
       "      <td>69.80</td>\n",
       "      <td>scattered clouds</td>\n",
       "      <td>-42.88</td>\n",
       "      <td>147.33</td>\n",
       "      <td>St Ives Hobart Accommodation Tasmania</td>\n",
       "    </tr>\n",
       "    <tr>\n",
       "      <th>...</th>\n",
       "      <td>...</td>\n",
       "      <td>...</td>\n",
       "      <td>...</td>\n",
       "      <td>...</td>\n",
       "      <td>...</td>\n",
       "      <td>...</td>\n",
       "      <td>...</td>\n",
       "      <td>...</td>\n",
       "    </tr>\n",
       "    <tr>\n",
       "      <th>556</th>\n",
       "      <td>556</td>\n",
       "      <td>ler</td>\n",
       "      <td>NO</td>\n",
       "      <td>39.20</td>\n",
       "      <td>shower rain</td>\n",
       "      <td>63.20</td>\n",
       "      <td>10.30</td>\n",
       "      <td>Motel Pokoje Do Wynajecia</td>\n",
       "    </tr>\n",
       "    <tr>\n",
       "      <th>557</th>\n",
       "      <td>557</td>\n",
       "      <td>prince george</td>\n",
       "      <td>CA</td>\n",
       "      <td>35.01</td>\n",
       "      <td>light rain</td>\n",
       "      <td>53.92</td>\n",
       "      <td>-122.75</td>\n",
       "      <td>Canadas Best Value Inn Prince George</td>\n",
       "    </tr>\n",
       "    <tr>\n",
       "      <th>558</th>\n",
       "      <td>558</td>\n",
       "      <td>grafton</td>\n",
       "      <td>AU</td>\n",
       "      <td>89.60</td>\n",
       "      <td>few clouds</td>\n",
       "      <td>-29.69</td>\n",
       "      <td>152.93</td>\n",
       "      <td>Glenwood Tourist Park &amp; Motel</td>\n",
       "    </tr>\n",
       "    <tr>\n",
       "      <th>559</th>\n",
       "      <td>559</td>\n",
       "      <td>merauke</td>\n",
       "      <td>ID</td>\n",
       "      <td>87.35</td>\n",
       "      <td>moderate rain</td>\n",
       "      <td>-8.49</td>\n",
       "      <td>140.40</td>\n",
       "      <td>Swiss-Belhotel Merauke</td>\n",
       "    </tr>\n",
       "    <tr>\n",
       "      <th>560</th>\n",
       "      <td>560</td>\n",
       "      <td>hambantota</td>\n",
       "      <td>LK</td>\n",
       "      <td>89.60</td>\n",
       "      <td>broken clouds</td>\n",
       "      <td>6.12</td>\n",
       "      <td>81.12</td>\n",
       "      <td>Bungalow 63</td>\n",
       "    </tr>\n",
       "  </tbody>\n",
       "</table>\n",
       "<p>561 rows × 8 columns</p>\n",
       "</div>"
      ],
      "text/plain": [
       "     City_ID             City Country  Max Temp Current Description    Lat  \\\n",
       "0          0         kalmunai      LK     81.27     overcast clouds   7.42   \n",
       "1          1     san jeronimo      PE     50.00          light rain -13.65   \n",
       "2          2  bambous virieux      MU     81.00         shower rain -20.34   \n",
       "3          3           atuona      PF     80.35           clear sky  -9.80   \n",
       "4          4           hobart      AU     69.80    scattered clouds -42.88   \n",
       "..       ...              ...     ...       ...                 ...    ...   \n",
       "556      556              ler      NO     39.20         shower rain  63.20   \n",
       "557      557    prince george      CA     35.01          light rain  53.92   \n",
       "558      558          grafton      AU     89.60          few clouds -29.69   \n",
       "559      559          merauke      ID     87.35       moderate rain  -8.49   \n",
       "560      560       hambantota      LK     89.60       broken clouds   6.12   \n",
       "\n",
       "        Lng                             Hotel Name  \n",
       "0     81.82                               VS Villa  \n",
       "1    -73.37                  La Mansion Casa Hotel  \n",
       "2     57.76                         Casa Tia Villa  \n",
       "3   -139.03                            Villa Enata  \n",
       "4    147.33  St Ives Hobart Accommodation Tasmania  \n",
       "..      ...                                    ...  \n",
       "556   10.30              Motel Pokoje Do Wynajecia  \n",
       "557 -122.75   Canadas Best Value Inn Prince George  \n",
       "558  152.93          Glenwood Tourist Park & Motel  \n",
       "559  140.40                 Swiss-Belhotel Merauke  \n",
       "560   81.12                            Bungalow 63  \n",
       "\n",
       "[561 rows x 8 columns]"
      ]
     },
     "execution_count": 16,
     "metadata": {},
     "output_type": "execute_result"
    }
   ],
   "source": [
    "# 1. Read the WeatherPy_vacation.csv into a DataFrame.\n",
    "vacation_df = pd.read_csv(\"WeatherPy_vacation.csv\")\n",
    "vacation_df"
   ]
  },
  {
   "cell_type": "code",
   "execution_count": 17,
   "metadata": {},
   "outputs": [
    {
     "data": {
      "text/html": [
       "<div>\n",
       "<style scoped>\n",
       "    .dataframe tbody tr th:only-of-type {\n",
       "        vertical-align: middle;\n",
       "    }\n",
       "\n",
       "    .dataframe tbody tr th {\n",
       "        vertical-align: top;\n",
       "    }\n",
       "\n",
       "    .dataframe thead th {\n",
       "        text-align: right;\n",
       "    }\n",
       "</style>\n",
       "<table border=\"1\" class=\"dataframe\">\n",
       "  <thead>\n",
       "    <tr style=\"text-align: right;\">\n",
       "      <th></th>\n",
       "      <th>City_ID</th>\n",
       "      <th>City</th>\n",
       "      <th>Country</th>\n",
       "      <th>Max Temp</th>\n",
       "      <th>Current Description</th>\n",
       "      <th>Lat</th>\n",
       "      <th>Lng</th>\n",
       "      <th>Hotel Name</th>\n",
       "    </tr>\n",
       "  </thead>\n",
       "  <tbody>\n",
       "    <tr>\n",
       "      <th>514</th>\n",
       "      <td>514</td>\n",
       "      <td>halifax</td>\n",
       "      <td>CA</td>\n",
       "      <td>30.99</td>\n",
       "      <td>broken clouds</td>\n",
       "      <td>44.65</td>\n",
       "      <td>-63.58</td>\n",
       "      <td>Hotel Halifax</td>\n",
       "    </tr>\n",
       "    <tr>\n",
       "      <th>530</th>\n",
       "      <td>530</td>\n",
       "      <td>haines junction</td>\n",
       "      <td>CA</td>\n",
       "      <td>25.20</td>\n",
       "      <td>light snow</td>\n",
       "      <td>60.75</td>\n",
       "      <td>-137.51</td>\n",
       "      <td>Parkside Inn</td>\n",
       "    </tr>\n",
       "    <tr>\n",
       "      <th>538</th>\n",
       "      <td>538</td>\n",
       "      <td>quesnel</td>\n",
       "      <td>CA</td>\n",
       "      <td>33.80</td>\n",
       "      <td>light rain</td>\n",
       "      <td>52.98</td>\n",
       "      <td>-122.49</td>\n",
       "      <td>Ramada Limited Quesnel</td>\n",
       "    </tr>\n",
       "    <tr>\n",
       "      <th>557</th>\n",
       "      <td>557</td>\n",
       "      <td>prince george</td>\n",
       "      <td>CA</td>\n",
       "      <td>35.01</td>\n",
       "      <td>light rain</td>\n",
       "      <td>53.92</td>\n",
       "      <td>-122.75</td>\n",
       "      <td>Canadas Best Value Inn Prince George</td>\n",
       "    </tr>\n",
       "  </tbody>\n",
       "</table>\n",
       "</div>"
      ],
      "text/plain": [
       "     City_ID             City Country  Max Temp Current Description    Lat  \\\n",
       "514      514          halifax      CA     30.99       broken clouds  44.65   \n",
       "530      530  haines junction      CA     25.20          light snow  60.75   \n",
       "538      538          quesnel      CA     33.80          light rain  52.98   \n",
       "557      557    prince george      CA     35.01          light rain  53.92   \n",
       "\n",
       "        Lng                            Hotel Name  \n",
       "514  -63.58                         Hotel Halifax  \n",
       "530 -137.51                          Parkside Inn  \n",
       "538 -122.49                Ramada Limited Quesnel  \n",
       "557 -122.75  Canadas Best Value Inn Prince George  "
      ]
     },
     "execution_count": 17,
     "metadata": {},
     "output_type": "execute_result"
    }
   ],
   "source": [
    "pref_cities_df = vacation_df.loc[(vacation_df[\"Country\"] == \"CA\")].tail(4)\n",
    "pref_cities_df"
   ]
  },
  {
   "cell_type": "code",
   "execution_count": 23,
   "metadata": {},
   "outputs": [
    {
     "data": {
      "text/html": [
       "<div>\n",
       "<style scoped>\n",
       "    .dataframe tbody tr th:only-of-type {\n",
       "        vertical-align: middle;\n",
       "    }\n",
       "\n",
       "    .dataframe tbody tr th {\n",
       "        vertical-align: top;\n",
       "    }\n",
       "\n",
       "    .dataframe thead th {\n",
       "        text-align: right;\n",
       "    }\n",
       "</style>\n",
       "<table border=\"1\" class=\"dataframe\">\n",
       "  <thead>\n",
       "    <tr style=\"text-align: right;\">\n",
       "      <th></th>\n",
       "      <th>Lat</th>\n",
       "      <th>Lng</th>\n",
       "    </tr>\n",
       "  </thead>\n",
       "  <tbody>\n",
       "    <tr>\n",
       "      <th>514</th>\n",
       "      <td>44.65</td>\n",
       "      <td>-63.58</td>\n",
       "    </tr>\n",
       "    <tr>\n",
       "      <th>530</th>\n",
       "      <td>60.75</td>\n",
       "      <td>-137.51</td>\n",
       "    </tr>\n",
       "    <tr>\n",
       "      <th>538</th>\n",
       "      <td>52.98</td>\n",
       "      <td>-122.49</td>\n",
       "    </tr>\n",
       "    <tr>\n",
       "      <th>557</th>\n",
       "      <td>53.92</td>\n",
       "      <td>-122.75</td>\n",
       "    </tr>\n",
       "  </tbody>\n",
       "</table>\n",
       "</div>"
      ],
      "text/plain": [
       "       Lat     Lng\n",
       "514  44.65  -63.58\n",
       "530  60.75 -137.51\n",
       "538  52.98 -122.49\n",
       "557  53.92 -122.75"
      ]
     },
     "execution_count": 23,
     "metadata": {},
     "output_type": "execute_result"
    }
   ],
   "source": [
    "# 2. Using the template add the city name, the country code, the weather description and maximum temperature for the city.\n",
    "info_box_template = \"\"\"\n",
    "<dl>\n",
    "<dt>Hotel Name</dt><dd>{Hotel Name}</dd>\n",
    "<dt>City</dt><dd>{City}</dd>\n",
    "<dt>Country</dt><dd>{Country}</dd>\n",
    "<dt>Current Weather</dt><dd>{Current Description} and {Max Temp}°F</dd>\n",
    "</dl>\n",
    "\"\"\"\n",
    "\n",
    "# 3a. Get the data from each row and add it to the formatting template and store the data in a list.\n",
    "hotel_info = [info_box_template.format(**row) for index, row in pref_cities_df.iterrows()]\n",
    "\n",
    "# 3b. Get the latitude and longitude from each row and store in a new DataFrame.\n",
    "locations =pref_cities_df[[\"Lat\", \"Lng\"]]\n",
    "locations"
   ]
  },
  {
   "cell_type": "code",
   "execution_count": 24,
   "metadata": {},
   "outputs": [
    {
     "data": {
      "text/plain": [
       "[(44.65, -63.58), (60.75, -137.51), (52.98, -122.49), (53.92, -122.75)]"
      ]
     },
     "execution_count": 24,
     "metadata": {},
     "output_type": "execute_result"
    }
   ],
   "source": [
    "coords = list(zip(pref_cities_df[\"Lat\"], pref_cities_df[\"Lng\"]))\n",
    "coords"
   ]
  },
  {
   "cell_type": "code",
   "execution_count": 26,
   "metadata": {},
   "outputs": [
    {
     "data": {
      "application/vnd.jupyter.widget-view+json": {
       "model_id": "8c55814ac7ab4ecbae1447905610fbf7",
       "version_major": 2,
       "version_minor": 0
      },
      "text/plain": [
       "Figure(layout=FigureLayout(height='420px'))"
      ]
     },
     "metadata": {},
     "output_type": "display_data"
    }
   ],
   "source": [
    "# 4a. Add a marker layer for each city to the map.\n",
    "# 4a. Add a marker layer for each city to the map.\n",
    "fig = gmaps.figure() \n",
    "marker_layer = gmaps.marker_layer(locations, info_box_content = hotel_info)\n",
    "fig.add_layer(marker_layer)\n",
    "\n",
    "fig\n",
    "# 4b. Display the figure\n",
    "# 4b. Display the figure\n",
    "\n"
   ]
  },
  {
   "cell_type": "code",
   "execution_count": 25,
   "metadata": {
    "scrolled": true
   },
   "outputs": [
    {
     "data": {
      "application/vnd.jupyter.widget-view+json": {
       "model_id": "2a9dc4e1642a42149b9c02e5786d8ac3",
       "version_major": 2,
       "version_minor": 0
      },
      "text/plain": [
       "Figure(layout=FigureLayout(height='420px'))"
      ]
     },
     "metadata": {},
     "output_type": "display_data"
    }
   ],
   "source": [
    "# 7. Create a direction layer map using the start and end latitude-longitude pairs,\n",
    "# and stop1, stop2, and stop3 as the waypoints. The travel_mode should be \"DRIVING\", \"BICYCLING\", or \"WALKING\".\n",
    "# 7. Create a direction layer map using the start and end latitude-longitude pairs,\n",
    "# and stop1, stop2, and stop3 as the waypoints. The travel_mode should be \"DRIVING\", \"BICYCLING\", or \"WALKING\".\n",
    "fig = gmaps.figure() \n",
    "route = gmaps.directions_layer(coords[0], coords[0], waypoints = [coords[1], coords[2], coords[3]], travel_mode =\"DRIVING\" )\n",
    "fig.add_layer(route)\n",
    "fig\n"
   ]
  },
  {
   "cell_type": "code",
   "execution_count": null,
   "metadata": {},
   "outputs": [],
   "source": [
    "# 8. To create a marker layer map between the four cities.\n",
    "#  Combine the four city DataFrames into one DataFrame using the concat() function.\n",
    "itinerary_df = pd.concat([],ignore_index=True)\n",
    "itinerary_df"
   ]
  },
  {
   "cell_type": "code",
   "execution_count": null,
   "metadata": {},
   "outputs": [],
   "source": [
    "# 9 Using the template add city name, the country code, the weather description and maximum temperature for the city. \n",
    "info_box_template = \"\"\"\n",
    "\n",
    "\"\"\"\n",
    "\n",
    "# 10a Get the data from each row and add it to the formatting template and store the data in a list.\n",
    "hotel_info = [info_box_template.format(**row) for index, row in itinerary_df.iterrows()]\n",
    "\n",
    "# 10b. Get the latitude and longitude from each row and store in a new DataFrame.\n",
    "locations = itinerary_df[[\"Lat\", \"Lng\"]]"
   ]
  },
  {
   "cell_type": "code",
   "execution_count": null,
   "metadata": {},
   "outputs": [],
   "source": [
    "# 11a. Add a marker layer for each city to the map.\n",
    "\n",
    "# 11b. Display the figure\n"
   ]
  },
  {
   "cell_type": "code",
   "execution_count": null,
   "metadata": {},
   "outputs": [],
   "source": []
  }
 ],
 "metadata": {
  "kernelspec": {
   "display_name": "PythonData",
   "language": "python",
   "name": "pythondata"
  },
  "language_info": {
   "codemirror_mode": {
    "name": "ipython",
    "version": 3
   },
   "file_extension": ".py",
   "mimetype": "text/x-python",
   "name": "python",
   "nbconvert_exporter": "python",
   "pygments_lexer": "ipython3",
   "version": "3.7.7"
  },
  "latex_envs": {
   "LaTeX_envs_menu_present": true,
   "autoclose": false,
   "autocomplete": true,
   "bibliofile": "biblio.bib",
   "cite_by": "apalike",
   "current_citInitial": 1,
   "eqLabelWithNumbers": true,
   "eqNumInitial": 1,
   "hotkeys": {
    "equation": "Ctrl-E",
    "itemize": "Ctrl-I"
   },
   "labels_anchors": false,
   "latex_user_defs": false,
   "report_style_numbering": false,
   "user_envs_cfg": false
  }
 },
 "nbformat": 4,
 "nbformat_minor": 2
}
